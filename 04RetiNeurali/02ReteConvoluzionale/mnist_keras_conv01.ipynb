{
 "cells": [
  {
   "cell_type": "markdown",
   "id": "d14c116e-5144-4dff-a922-f8ea648a23b6",
   "metadata": {},
   "source": [
    "<a href=\"https://colab.research.google.com/github/ccasadei/corso-ia/blob/master/04RetiNeurali/02ReteConvoluzionale/mnist_keras_conv01.ipynb\" target=\"_parent\"><img src=\"https://colab.research.google.com/assets/colab-badge.svg\" alt=\"Open In Colab\"/></a>"
   ]
  },
  {
   "cell_type": "markdown",
   "id": "107cdd16-d49c-44e3-9a32-16dead071784",
   "metadata": {},
   "source": [
    "# MNIST in Keras Convoluzionale\n",
    "## Esercizio 1\n",
    "**Author: Cristiano Casadei**"
   ]
  },
  {
   "cell_type": "code",
   "execution_count": 1,
   "id": "82681069-ea6f-4ea5-b062-2a91a8ce90bf",
   "metadata": {},
   "outputs": [],
   "source": [
    "from random import randint\n",
    "\n",
    "import matplotlib.pyplot as plt\n",
    "import numpy\n",
    "from tensorflow.python.keras import Input, Model\n",
    "from tensorflow.python.keras.datasets import mnist\n",
    "from tensorflow.python.keras.layers import Dense, Conv2D, MaxPooling2D, Dropout, Flatten\n",
    "from tensorflow.python.keras.utils import np_utils"
   ]
  },
  {
   "cell_type": "code",
   "execution_count": 2,
   "id": "8aea827f-7f6c-4434-bca1-3cce36ff41ac",
   "metadata": {},
   "outputs": [
    {
     "data": {
      "image/png": "[encoded data removed]",
      "text/plain": [
       "<Figure size 640x480 with 4 Axes>"
      ]
     },
     "metadata": {},
     "output_type": "display_data"
    }
   ],
   "source": [
    "# ottengo il dataset MNIST già suddiviso in dataset X e Y, di addestramento e di test\n",
    "(X_train, y_train), (X_test, y_test) = mnist.load_data()\n",
    "\n",
    "# visualizzo 4 cifre random\n",
    "for i in range(4):\n",
    "    plt.subplot(2, 2, (i + 1))\n",
    "    # in 'shape[0]' è contenuto il numero di esempi del dataset (in questo caso di addestramento)\n",
    "    plt.imshow(X_train[randint(0, X_train.shape[0])], cmap=plt.get_cmap('gray'))"
   ]
  },
  {
   "cell_type": "code",
   "execution_count": 3,
   "id": "dcc6b1c5-8e94-44be-8abc-47269d497e72",
   "metadata": {},
   "outputs": [],
   "source": [
    "# imposto un seed random in modo da ottenere risultati replicabili, d'ora in avanti\n",
    "numpy.random.seed(1234)\n",
    "\n",
    "# modifico le matrici di pixel in modo da ottenere una matrice di pixels monocromatici\n",
    "# usando Tensorflow, il canale del colore è l'ultimo dopo le dimensioni (ncifre, dimy, dimx, ncanalicolore)\n",
    "# con altri backend (ad esempio Theano) il canale va prima delle dimensioni (ncifre, ncanalicolore, dimy, dimx)\n",
    "X_train = X_train.reshape(X_train.shape[0], 28, 28, 1).astype('float32')\n",
    "X_test = X_test.reshape(X_test.shape[0], 28, 28, 1).astype('float32')\n",
    "\n",
    "# normalizzo i valori dei pixel portandoli dal range intero 0-255 al range in virgola mobile 0.0-1.0\n",
    "# visto che sono array numpy, è sufficiente eseguire l'operazione direttamente sull'array\n",
    "X_train = X_train / 255\n",
    "X_test = X_test / 255\n",
    "\n",
    "# modifico gli array dei risultati (\"ground truth\") in modo siano in formato 'one hot encode'\n",
    "# quindi i valori interi corrispondenti alla classe della cifra (0, 1, 2, ..., 9) vengono\n",
    "# codificati in stringhe posizionali di 0 ed 1\n",
    "# esempi:\n",
    "#   0 --> 1,0,0,0,0,0,0,0,0,0\n",
    "#   1 --> 0,1,0,0,0,0,0,0,0,0\n",
    "#   2 --> 0,0,1,0,0,0,0,0,0,0\n",
    "#  ....\n",
    "#   9 --> 0,0,0,0,0,0,0,0,0,1\n",
    "# in questo modo è più semplice ottenere un risultato significativo dalla rete neurale, in quanto\n",
    "# ogni cifra posizionale corrisponderà ad un neurone dello strato di output che si attiverà o meno\n",
    "# a seconda del risultato della classificazione della rete neurale\n",
    "# in 'shape[0]' continuerà ad essere contenuto il numero di cifre del dataset\n",
    "# in 'shape[1]' ci sarà invece il numero di cifre posizionali, corrispondente al numero di classi possibili\n",
    "y_train = np_utils.to_categorical(y_train)\n",
    "y_test = np_utils.to_categorical(y_test)\n",
    "num_classi = y_train.shape[1]"
   ]
  },
  {
   "cell_type": "code",
   "execution_count": 4,
   "id": "e3eea787-aba6-45fe-87aa-907c0af45299",
   "metadata": {},
   "outputs": [
    {
     "name": "stdout",
     "output_type": "stream",
     "text": [
      "Model: \"model\"\n",
      "_________________________________________________________________\n",
      "Layer (type)                 Output Shape              Param #   \n",
      "=================================================================\n",
      "input_layer (InputLayer)     [(None, 28, 28, 1)]       0         \n",
      "_________________________________________________________________\n",
      "conv_layer (Conv2D)          (None, 24, 24, 32)        832       \n",
      "_________________________________________________________________\n",
      "maxpool_layer (MaxPooling2D) (None, 12, 12, 32)        0         \n",
      "_________________________________________________________________\n",
      "drop_layer (Dropout)         (None, 12, 12, 32)        0         \n",
      "_________________________________________________________________\n",
      "flatten_layer (Flatten)      (None, 4608)              0         \n",
      "_________________________________________________________________\n",
      "dense_layer (Dense)          (None, 128)               589952    \n",
      "_________________________________________________________________\n",
      "output_layer (Dense)         (None, 10)                1290      \n",
      "=================================================================\n",
      "Total params: 592,074\n",
      "Trainable params: 592,074\n",
      "Non-trainable params: 0\n",
      "_________________________________________________________________\n"
     ]
    },
    {
     "name": "stderr",
     "output_type": "stream",
     "text": [
      "2022-12-19 09:04:31.469061: I tensorflow/stream_executor/cuda/cuda_gpu_executor.cc:937] successful NUMA node read from SysFS had negative value (-1), but there must be at least one NUMA node, so returning NUMA node zero\n",
      "2022-12-19 09:04:31.473972: I tensorflow/stream_executor/cuda/cuda_gpu_executor.cc:937] successful NUMA node read from SysFS had negative value (-1), but there must be at least one NUMA node, so returning NUMA node zero\n",
      "2022-12-19 09:04:31.474124: I tensorflow/stream_executor/cuda/cuda_gpu_executor.cc:937] successful NUMA node read from SysFS had negative value (-1), but there must be at least one NUMA node, so returning NUMA node zero\n",
      "2022-12-19 09:04:31.474665: I tensorflow/core/platform/cpu_feature_guard.cc:142] This TensorFlow binary is optimized with oneAPI Deep Neural Network Library (oneDNN) to use the following CPU instructions in performance-critical operations:  AVX2 AVX512F FMA\n",
      "To enable them in other operations, rebuild TensorFlow with the appropriate compiler flags.\n",
      "2022-12-19 09:04:31.475524: I tensorflow/stream_executor/cuda/cuda_gpu_executor.cc:937] successful NUMA node read from SysFS had negative value (-1), but there must be at least one NUMA node, so returning NUMA node zero\n",
      "2022-12-19 09:04:31.475672: I tensorflow/stream_executor/cuda/cuda_gpu_executor.cc:937] successful NUMA node read from SysFS had negative value (-1), but there must be at least one NUMA node, so returning NUMA node zero\n",
      "2022-12-19 09:04:31.475782: I tensorflow/stream_executor/cuda/cuda_gpu_executor.cc:937] successful NUMA node read from SysFS had negative value (-1), but there must be at least one NUMA node, so returning NUMA node zero\n",
      "2022-12-19 09:04:32.295019: I tensorflow/stream_executor/cuda/cuda_gpu_executor.cc:937] successful NUMA node read from SysFS had negative value (-1), but there must be at least one NUMA node, so returning NUMA node zero\n",
      "2022-12-19 09:04:32.295199: I tensorflow/stream_executor/cuda/cuda_gpu_executor.cc:937] successful NUMA node read from SysFS had negative value (-1), but there must be at least one NUMA node, so returning NUMA node zero\n",
      "2022-12-19 09:04:32.295320: I tensorflow/stream_executor/cuda/cuda_gpu_executor.cc:937] successful NUMA node read from SysFS had negative value (-1), but there must be at least one NUMA node, so returning NUMA node zero\n",
      "2022-12-19 09:04:32.295418: W tensorflow/core/common_runtime/gpu/gpu_bfc_allocator.cc:39] Overriding allow_growth setting because the TF_FORCE_GPU_ALLOW_GROWTH environment variable is set. Original config value was 0.\n",
      "2022-12-19 09:04:32.295443: I tensorflow/core/common_runtime/gpu/gpu_device.cc:1510] Created device /job:localhost/replica:0/task:0/device:GPU:0 with 4498 MB memory:  -> device: 0, name: Quadro RTX 6000, pci bus id: 0000:03:00.0, compute capability: 7.5\n"
     ]
    }
   ],
   "source": [
    "# definisco un modello di rete neurale convoluzionale\n",
    "# come dimensione del layer di ingresso uso quelle del train set (esclusa la dimensione iniziale del numero di cifre del dataset)\n",
    "input_layer = Input(shape=X_train.shape[1:], name=\"input_layer\")\n",
    "inner_layer = Conv2D(32, (5, 5), activation=\"relu\", name=\"conv_layer\")(input_layer)\n",
    "inner_layer = MaxPooling2D(pool_size=(2, 2), name=\"maxpool_layer\")(inner_layer)\n",
    "inner_layer = Dropout(rate=0.2, name=\"drop_layer\")(inner_layer)\n",
    "inner_layer = Flatten(name=\"flatten_layer\")(inner_layer)\n",
    "inner_layer = Dense(128, activation=\"relu\", name=\"dense_layer\")(inner_layer)\n",
    "output_layer = Dense(num_classi, activation=\"softmax\", name=\"output_layer\")(inner_layer)\n",
    "\n",
    "model = Model(inputs=[input_layer], outputs=[output_layer])\n",
    "model.summary()"
   ]
  },
  {
   "cell_type": "code",
   "execution_count": 5,
   "id": "8ac2eff2-49b4-41d8-a03d-d8bdd140cc0d",
   "metadata": {},
   "outputs": [
    {
     "name": "stderr",
     "output_type": "stream",
     "text": [
      "2022-12-19 09:04:41.487542: I tensorflow/compiler/mlir/mlir_graph_optimization_pass.cc:185] None of the MLIR Optimization Passes are enabled (registered 2)\n"
     ]
    },
    {
     "name": "stdout",
     "output_type": "stream",
     "text": [
      "Epoch 1/10\n"
     ]
    },
    {
     "name": "stderr",
     "output_type": "stream",
     "text": [
      "2022-12-19 09:04:44.720964: I tensorflow/stream_executor/cuda/cuda_dnn.cc:369] Loaded cuDNN version 8101\n",
      "2022-12-19 09:04:48.888403: I tensorflow/core/platform/default/subprocess.cc:304] Start cannot spawn child process: No such file or directory\n",
      "2022-12-19 09:04:48.888861: I tensorflow/core/platform/default/subprocess.cc:304] Start cannot spawn child process: No such file or directory\n",
      "2022-12-19 09:04:48.888893: W tensorflow/stream_executor/gpu/asm_compiler.cc:77] Couldn't get ptxas version string: Internal: Couldn't invoke ptxas --version\n",
      "2022-12-19 09:04:48.889269: I tensorflow/core/platform/default/subprocess.cc:304] Start cannot spawn child process: No such file or directory\n",
      "2022-12-19 09:04:48.889330: W tensorflow/stream_executor/gpu/redzone_allocator.cc:314] Internal: Failed to launch ptxas\n",
      "Relying on driver to perform ptx compilation. \n",
      "Modify $PATH to customize ptxas location.\n",
      "This message will be only logged once.\n"
     ]
    },
    {
     "name": "stdout",
     "output_type": "stream",
     "text": [
      "235/235 [==============================] - 11s 6ms/step - loss: 0.2580 - accuracy: 0.9266 - val_loss: 0.0751 - val_accuracy: 0.9778\n",
      "Epoch 2/10\n",
      "235/235 [==============================] - 1s 5ms/step - loss: 0.0724 - accuracy: 0.9789 - val_loss: 0.0528 - val_accuracy: 0.9833\n",
      "Epoch 3/10\n",
      "235/235 [==============================] - 1s 5ms/step - loss: 0.0531 - accuracy: 0.9836 - val_loss: 0.0388 - val_accuracy: 0.9875\n",
      "Epoch 4/10\n",
      "235/235 [==============================] - 1s 5ms/step - loss: 0.0418 - accuracy: 0.9873 - val_loss: 0.0359 - val_accuracy: 0.9887\n",
      "Epoch 5/10\n",
      "235/235 [==============================] - 1s 4ms/step - loss: 0.0345 - accuracy: 0.9891 - val_loss: 0.0377 - val_accuracy: 0.9879\n",
      "Epoch 6/10\n",
      "235/235 [==============================] - 1s 4ms/step - loss: 0.0278 - accuracy: 0.9915 - val_loss: 0.0321 - val_accuracy: 0.9896\n",
      "Epoch 7/10\n",
      "235/235 [==============================] - 1s 5ms/step - loss: 0.0244 - accuracy: 0.9921 - val_loss: 0.0294 - val_accuracy: 0.9908\n",
      "Epoch 8/10\n",
      "235/235 [==============================] - 1s 6ms/step - loss: 0.0209 - accuracy: 0.9935 - val_loss: 0.0335 - val_accuracy: 0.9894\n",
      "Epoch 9/10\n",
      "235/235 [==============================] - 1s 5ms/step - loss: 0.0176 - accuracy: 0.9943 - val_loss: 0.0310 - val_accuracy: 0.9892\n",
      "Epoch 10/10\n",
      "235/235 [==============================] - 1s 5ms/step - loss: 0.0159 - accuracy: 0.9949 - val_loss: 0.0359 - val_accuracy: 0.9889\n"
     ]
    },
    {
     "data": {
      "text/plain": [
       "<tensorflow.python.keras.callbacks.History at 0x7f764c520a00>"
      ]
     },
     "execution_count": 5,
     "metadata": {},
     "output_type": "execute_result"
    }
   ],
   "source": [
    "# compilo il modello indicando che tipo di loss_function devo utilizzare,\n",
    "# il tipo di ottimizzatore e le metriche che voglio vengano calcolate\n",
    "model.compile(loss=\"categorical_crossentropy\",\n",
    "              optimizer=\"adam\",\n",
    "              metrics=[\"accuracy\"])\n",
    "\n",
    "# addestro il modello\n",
    "model.fit(X_train, y_train, validation_data=(X_test, y_test),\n",
    "          epochs=10, batch_size=256, verbose=1)"
   ]
  },
  {
   "cell_type": "code",
   "execution_count": 6,
   "id": "c43b74cc-41ba-4de3-9e55-b8a4732a671d",
   "metadata": {},
   "outputs": [
    {
     "name": "stdout",
     "output_type": "stream",
     "text": [
      "313/313 [==============================] - 1s 2ms/step - loss: 0.0359 - accuracy: 0.9889\n",
      "Errore del modello: 1.11%\n"
     ]
    }
   ],
   "source": [
    "# valuto il modello\n",
    "valutazioni = model.evaluate(X_test, y_test, verbose=1)\n",
    "print(\"Errore del modello: {:.2f}%\".format(100 - valutazioni[1] * 100))"
   ]
  }
 ],
 "metadata": {
  "kernelspec": {
   "display_name": "Python 3 (ipykernel)",
   "language": "python",
   "name": "python3"
  },
  "language_info": {
   "codemirror_mode": {
    "name": "ipython",
    "version": 3
   },
   "file_extension": ".py",
   "mimetype": "text/x-python",
   "name": "python",
   "nbconvert_exporter": "python",
   "pygments_lexer": "ipython3",
   "version": "3.9.7"
  }
 },
 "nbformat": 4,
 "nbformat_minor": 5
}
